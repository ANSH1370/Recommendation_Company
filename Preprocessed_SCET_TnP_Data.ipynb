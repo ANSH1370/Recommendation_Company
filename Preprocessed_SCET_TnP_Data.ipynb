{
 "cells": [
  {
   "cell_type": "code",
   "execution_count": 1,
   "id": "bfe8212c",
   "metadata": {},
   "outputs": [],
   "source": [
    "import pandas as pd\n",
    "import numpy as np\n",
    "import seaborn as sns"
   ]
  },
  {
   "cell_type": "code",
   "execution_count": 2,
   "id": "ac58610e",
   "metadata": {},
   "outputs": [],
   "source": [
    "tnp_data = pd.read_csv('SCET- Dept. of Training & Placement Cell - Campus Notice.xlsx - Year 2016-2020.csv')"
   ]
  },
  {
   "cell_type": "code",
   "execution_count": 3,
   "id": "a65ade6b",
   "metadata": {},
   "outputs": [
    {
     "data": {
      "text/html": [
       "<div>\n",
       "<style scoped>\n",
       "    .dataframe tbody tr th:only-of-type {\n",
       "        vertical-align: middle;\n",
       "    }\n",
       "\n",
       "    .dataframe tbody tr th {\n",
       "        vertical-align: top;\n",
       "    }\n",
       "\n",
       "    .dataframe thead th {\n",
       "        text-align: right;\n",
       "    }\n",
       "</style>\n",
       "<table border=\"1\" class=\"dataframe\">\n",
       "  <thead>\n",
       "    <tr style=\"text-align: right;\">\n",
       "      <th></th>\n",
       "      <th>Unnamed: 0</th>\n",
       "      <th>Notice Posted On</th>\n",
       "      <th>Company Name</th>\n",
       "      <th>Eligibility</th>\n",
       "      <th>Job Description &amp; Application Link</th>\n",
       "      <th>Recruitment Type</th>\n",
       "      <th>Company  Reqirements</th>\n",
       "    </tr>\n",
       "  </thead>\n",
       "  <tbody>\n",
       "    <tr>\n",
       "      <th>0</th>\n",
       "      <td>1.0</td>\n",
       "      <td>NaN</td>\n",
       "      <td>Intellicon Pvt Ltd - Gandhinagar</td>\n",
       "      <td>EC</td>\n",
       "      <td>https://goo.gl/YNYZYw</td>\n",
       "      <td>On Campus\\nThrough GTU ITAP Cell\\n</td>\n",
       "      <td>Diploma/BE (EC) with good communication and co...</td>\n",
       "    </tr>\n",
       "    <tr>\n",
       "      <th>1</th>\n",
       "      <td>2.0</td>\n",
       "      <td>NaN</td>\n",
       "      <td>Just Green</td>\n",
       "      <td>CO\\nIT\\nMCA</td>\n",
       "      <td>https://goo.gl/1V8dbm</td>\n",
       "      <td>On Campus</td>\n",
       "      <td>Web development,Mobile application development...</td>\n",
       "    </tr>\n",
       "    <tr>\n",
       "      <th>2</th>\n",
       "      <td>3.0</td>\n",
       "      <td>NaN</td>\n",
       "      <td>WhiteLion</td>\n",
       "      <td>All</td>\n",
       "      <td>https://goo.gl/wEMsb9</td>\n",
       "      <td>On Campus</td>\n",
       "      <td>Excellent knowledge of MS Office.,Highly motiv...</td>\n",
       "    </tr>\n",
       "    <tr>\n",
       "      <th>3</th>\n",
       "      <td>4.0</td>\n",
       "      <td>NaN</td>\n",
       "      <td>D-mart</td>\n",
       "      <td>EL</td>\n",
       "      <td>https://goo.gl/Jl3SQQ</td>\n",
       "      <td>On Campus</td>\n",
       "      <td>BE Electrical with no active backlogs\\r\\n60% t...</td>\n",
       "    </tr>\n",
       "    <tr>\n",
       "      <th>4</th>\n",
       "      <td>9.0</td>\n",
       "      <td>6/30/2017</td>\n",
       "      <td>National Group</td>\n",
       "      <td>All</td>\n",
       "      <td>https://goo.gl/dxUE3R</td>\n",
       "      <td>On Campus</td>\n",
       "      <td>English must be good</td>\n",
       "    </tr>\n",
       "  </tbody>\n",
       "</table>\n",
       "</div>"
      ],
      "text/plain": [
       "   Unnamed: 0 Notice Posted On                      Company Name  Eligibility  \\\n",
       "0         1.0              NaN  Intellicon Pvt Ltd - Gandhinagar           EC   \n",
       "1         2.0              NaN                        Just Green  CO\\nIT\\nMCA   \n",
       "2         3.0              NaN                         WhiteLion          All   \n",
       "3         4.0              NaN                            D-mart           EL   \n",
       "4         9.0        6/30/2017                    National Group          All   \n",
       "\n",
       "  Job Description & Application Link                    Recruitment Type  \\\n",
       "0              https://goo.gl/YNYZYw  On Campus\\nThrough GTU ITAP Cell\\n   \n",
       "1              https://goo.gl/1V8dbm                           On Campus   \n",
       "2              https://goo.gl/wEMsb9                           On Campus   \n",
       "3              https://goo.gl/Jl3SQQ                           On Campus   \n",
       "4              https://goo.gl/dxUE3R                           On Campus   \n",
       "\n",
       "                                Company  Reqirements  \n",
       "0  Diploma/BE (EC) with good communication and co...  \n",
       "1  Web development,Mobile application development...  \n",
       "2  Excellent knowledge of MS Office.,Highly motiv...  \n",
       "3  BE Electrical with no active backlogs\\r\\n60% t...  \n",
       "4                               English must be good  "
      ]
     },
     "execution_count": 3,
     "metadata": {},
     "output_type": "execute_result"
    }
   ],
   "source": [
    "tnp_data.head()"
   ]
  },
  {
   "cell_type": "code",
   "execution_count": 5,
   "id": "0c1de272",
   "metadata": {},
   "outputs": [],
   "source": [
    "tnp_data.drop(columns=['Unnamed: 0','Notice Posted On'],inplace=True)"
   ]
  },
  {
   "cell_type": "code",
   "execution_count": 12,
   "id": "147b608d",
   "metadata": {},
   "outputs": [
    {
     "data": {
      "text/plain": [
       "(787, 5)"
      ]
     },
     "execution_count": 12,
     "metadata": {},
     "output_type": "execute_result"
    }
   ],
   "source": [
    "tnp_data.shape"
   ]
  },
  {
   "cell_type": "code",
   "execution_count": 13,
   "id": "e31c485d",
   "metadata": {},
   "outputs": [
    {
     "name": "stdout",
     "output_type": "stream",
     "text": [
      "<class 'pandas.core.frame.DataFrame'>\n",
      "RangeIndex: 787 entries, 0 to 786\n",
      "Data columns (total 5 columns):\n",
      " #   Column                              Non-Null Count  Dtype \n",
      "---  ------                              --------------  ----- \n",
      " 0   Company Name                        787 non-null    object\n",
      " 1   Eligibility                         786 non-null    object\n",
      " 2   Job Description & Application Link  784 non-null    object\n",
      " 3   Recruitment Type                    780 non-null    object\n",
      " 4   Company  Reqirements                774 non-null    object\n",
      "dtypes: object(5)\n",
      "memory usage: 30.9+ KB\n"
     ]
    }
   ],
   "source": [
    "tnp_data.info()"
   ]
  },
  {
   "cell_type": "code",
   "execution_count": 16,
   "id": "a5f8ae85",
   "metadata": {},
   "outputs": [],
   "source": [
    "df = tnp_data.copy()"
   ]
  },
  {
   "cell_type": "code",
   "execution_count": 17,
   "id": "44ce6180",
   "metadata": {},
   "outputs": [
    {
     "data": {
      "text/html": [
       "<div>\n",
       "<style scoped>\n",
       "    .dataframe tbody tr th:only-of-type {\n",
       "        vertical-align: middle;\n",
       "    }\n",
       "\n",
       "    .dataframe tbody tr th {\n",
       "        vertical-align: top;\n",
       "    }\n",
       "\n",
       "    .dataframe thead th {\n",
       "        text-align: right;\n",
       "    }\n",
       "</style>\n",
       "<table border=\"1\" class=\"dataframe\">\n",
       "  <thead>\n",
       "    <tr style=\"text-align: right;\">\n",
       "      <th></th>\n",
       "      <th>Company Name</th>\n",
       "      <th>Eligibility</th>\n",
       "      <th>Job Description &amp; Application Link</th>\n",
       "      <th>Recruitment Type</th>\n",
       "      <th>Company  Reqirements</th>\n",
       "    </tr>\n",
       "  </thead>\n",
       "  <tbody>\n",
       "    <tr>\n",
       "      <th>237</th>\n",
       "      <td>Byju's</td>\n",
       "      <td>ALL</td>\n",
       "      <td>https://goo.gl/LZ6oBk</td>\n",
       "      <td>Pooled Campus\\nSVNIT, Surat</td>\n",
       "      <td>Bussines development associate, sales,marketing</td>\n",
       "    </tr>\n",
       "    <tr>\n",
       "      <th>201</th>\n",
       "      <td>MyAnatomy</td>\n",
       "      <td>ALL</td>\n",
       "      <td>https://goo.gl/mhyNMG</td>\n",
       "      <td>Student Data</td>\n",
       "      <td>-</td>\n",
       "    </tr>\n",
       "    <tr>\n",
       "      <th>340</th>\n",
       "      <td>L &amp; T Heavy Enginerring,  Hazira</td>\n",
       "      <td>CO\\nIT\\nMCA\\nM.E- CO</td>\n",
       "      <td>https://goo.gl/qFoUvH</td>\n",
       "      <td>On Campus</td>\n",
       "      <td>.Net (MVC) Preferable</td>\n",
       "    </tr>\n",
       "    <tr>\n",
       "      <th>196</th>\n",
       "      <td>SHRI WEB SOLUTION</td>\n",
       "      <td>CO\\nIT\\nMCA\\nME-CO\\nOther</td>\n",
       "      <td>https://goo.gl/PoVzMj</td>\n",
       "      <td>On Campus</td>\n",
       "      <td>.Net Developer Skill: ASP.Net (3.5, 4.0), C#.N...</td>\n",
       "    </tr>\n",
       "    <tr>\n",
       "      <th>391</th>\n",
       "      <td>Narola Infotech, Surat</td>\n",
       "      <td>MCA</td>\n",
       "      <td>https://goo.gl/cECUL6</td>\n",
       "      <td>On Campus</td>\n",
       "      <td>PHP Trainees, Mobile Trainees - Android/iOS , ...</td>\n",
       "    </tr>\n",
       "  </tbody>\n",
       "</table>\n",
       "</div>"
      ],
      "text/plain": [
       "                         Company Name                Eligibility  \\\n",
       "237                            Byju's                        ALL   \n",
       "201                         MyAnatomy                        ALL   \n",
       "340  L & T Heavy Enginerring,  Hazira       CO\\nIT\\nMCA\\nM.E- CO   \n",
       "196                 SHRI WEB SOLUTION  CO\\nIT\\nMCA\\nME-CO\\nOther   \n",
       "391            Narola Infotech, Surat                        MCA   \n",
       "\n",
       "    Job Description & Application Link             Recruitment Type  \\\n",
       "237              https://goo.gl/LZ6oBk  Pooled Campus\\nSVNIT, Surat   \n",
       "201              https://goo.gl/mhyNMG                 Student Data   \n",
       "340              https://goo.gl/qFoUvH                    On Campus   \n",
       "196              https://goo.gl/PoVzMj                    On Campus   \n",
       "391              https://goo.gl/cECUL6                    On Campus   \n",
       "\n",
       "                                  Company  Reqirements  \n",
       "237    Bussines development associate, sales,marketing  \n",
       "201                                                  -  \n",
       "340                              .Net (MVC) Preferable  \n",
       "196  .Net Developer Skill: ASP.Net (3.5, 4.0), C#.N...  \n",
       "391  PHP Trainees, Mobile Trainees - Android/iOS , ...  "
      ]
     },
     "execution_count": 17,
     "metadata": {},
     "output_type": "execute_result"
    }
   ],
   "source": [
    "df.sample(5)"
   ]
  },
  {
   "cell_type": "code",
   "execution_count": 18,
   "id": "8299ef66",
   "metadata": {
    "scrolled": false
   },
   "outputs": [
    {
     "data": {
      "text/plain": [
       "Company  Reqirements\n",
       "-                                                                                                                                                                                                                                         256\n",
       "Problem-Solving and Critical Thinking,JAVA,Python,C,C++,Javascript,Commuincation                                                                                                                                                           12\n",
       "Management Trainee                                                                                                                                                                                                                          3\n",
       "Electrical                                                                                                                                                                                                                                  2\n",
       "MySQL, MongoDB, SQLite, UI,IOS developer,PHP developer                                                                                                                                                                                      2\n",
       "                                                                                                                                                                                                                                         ... \n",
       "2 or  more year experience                                                                                                                                                                                                                  1\n",
       "AutoCad, Solid Edge, Solid Works ,Siemens, Schneider, AB,PLC and HMI programming                                                                                                                                                            1\n",
       "Asp.Net MVC Developer - Urgent Requirement\\r\\nSenior Asp.Net MVC Developer\\r\\nSenior ASP.NET C# Developer\\r\\nJunior ASP.NET Developer\\r\\nBusiness Development Executive                                                                     1\n",
       "Strong communication skill in English.\\r\\nGood knowledge of Computer or IT technology.\\r\\nInterest in Content writing, web content or blog.\\r\\nInterest in Business development, SDLC, presentation, requirement analysis.                  1\n",
       " Problem-Solving and Critical Thinking,JAVA,Python,C,C++,Javascript,Commuincation,C#, C++,Excellent communication skills,Knowledge of Design of Components of Residential or Commercial Structures ,Excellent communication skills\\r\\n      1\n",
       "Name: count, Length: 500, dtype: int64"
      ]
     },
     "execution_count": 18,
     "metadata": {},
     "output_type": "execute_result"
    }
   ],
   "source": [
    "# Removing the companies whose requirements is null\n",
    "\n",
    "df['Company  Reqirements'].value_counts()"
   ]
  },
  {
   "cell_type": "code",
   "execution_count": 21,
   "id": "d407e820",
   "metadata": {},
   "outputs": [],
   "source": [
    "df = df[~(df['Company  Reqirements'] == '-')]"
   ]
  },
  {
   "cell_type": "code",
   "execution_count": 22,
   "id": "b93bc752",
   "metadata": {
    "scrolled": true
   },
   "outputs": [
    {
     "data": {
      "text/html": [
       "<div>\n",
       "<style scoped>\n",
       "    .dataframe tbody tr th:only-of-type {\n",
       "        vertical-align: middle;\n",
       "    }\n",
       "\n",
       "    .dataframe tbody tr th {\n",
       "        vertical-align: top;\n",
       "    }\n",
       "\n",
       "    .dataframe thead th {\n",
       "        text-align: right;\n",
       "    }\n",
       "</style>\n",
       "<table border=\"1\" class=\"dataframe\">\n",
       "  <thead>\n",
       "    <tr style=\"text-align: right;\">\n",
       "      <th></th>\n",
       "      <th>Company Name</th>\n",
       "      <th>Eligibility</th>\n",
       "      <th>Job Description &amp; Application Link</th>\n",
       "      <th>Recruitment Type</th>\n",
       "      <th>Company  Reqirements</th>\n",
       "    </tr>\n",
       "  </thead>\n",
       "  <tbody>\n",
       "    <tr>\n",
       "      <th>0</th>\n",
       "      <td>Intellicon Pvt Ltd - Gandhinagar</td>\n",
       "      <td>EC</td>\n",
       "      <td>https://goo.gl/YNYZYw</td>\n",
       "      <td>On Campus\\nThrough GTU ITAP Cell\\n</td>\n",
       "      <td>Diploma/BE (EC) with good communication and co...</td>\n",
       "    </tr>\n",
       "    <tr>\n",
       "      <th>1</th>\n",
       "      <td>Just Green</td>\n",
       "      <td>CO\\nIT\\nMCA</td>\n",
       "      <td>https://goo.gl/1V8dbm</td>\n",
       "      <td>On Campus</td>\n",
       "      <td>Web development,Mobile application development...</td>\n",
       "    </tr>\n",
       "    <tr>\n",
       "      <th>2</th>\n",
       "      <td>WhiteLion</td>\n",
       "      <td>All</td>\n",
       "      <td>https://goo.gl/wEMsb9</td>\n",
       "      <td>On Campus</td>\n",
       "      <td>Excellent knowledge of MS Office.,Highly motiv...</td>\n",
       "    </tr>\n",
       "    <tr>\n",
       "      <th>3</th>\n",
       "      <td>D-mart</td>\n",
       "      <td>EL</td>\n",
       "      <td>https://goo.gl/Jl3SQQ</td>\n",
       "      <td>On Campus</td>\n",
       "      <td>BE Electrical with no active backlogs\\r\\n60% t...</td>\n",
       "    </tr>\n",
       "    <tr>\n",
       "      <th>4</th>\n",
       "      <td>National Group</td>\n",
       "      <td>All</td>\n",
       "      <td>https://goo.gl/dxUE3R</td>\n",
       "      <td>On Campus</td>\n",
       "      <td>English must be good</td>\n",
       "    </tr>\n",
       "  </tbody>\n",
       "</table>\n",
       "</div>"
      ],
      "text/plain": [
       "                       Company Name  Eligibility  \\\n",
       "0  Intellicon Pvt Ltd - Gandhinagar           EC   \n",
       "1                        Just Green  CO\\nIT\\nMCA   \n",
       "2                         WhiteLion          All   \n",
       "3                            D-mart           EL   \n",
       "4                    National Group          All   \n",
       "\n",
       "  Job Description & Application Link                    Recruitment Type  \\\n",
       "0              https://goo.gl/YNYZYw  On Campus\\nThrough GTU ITAP Cell\\n   \n",
       "1              https://goo.gl/1V8dbm                           On Campus   \n",
       "2              https://goo.gl/wEMsb9                           On Campus   \n",
       "3              https://goo.gl/Jl3SQQ                           On Campus   \n",
       "4              https://goo.gl/dxUE3R                           On Campus   \n",
       "\n",
       "                                Company  Reqirements  \n",
       "0  Diploma/BE (EC) with good communication and co...  \n",
       "1  Web development,Mobile application development...  \n",
       "2  Excellent knowledge of MS Office.,Highly motiv...  \n",
       "3  BE Electrical with no active backlogs\\r\\n60% t...  \n",
       "4                               English must be good  "
      ]
     },
     "execution_count": 22,
     "metadata": {},
     "output_type": "execute_result"
    }
   ],
   "source": [
    "df.head()"
   ]
  },
  {
   "cell_type": "code",
   "execution_count": 26,
   "id": "1b3ef89b",
   "metadata": {},
   "outputs": [],
   "source": [
    "# Dropping the unnessary columns\n",
    "\n",
    "df.drop(columns=['Eligibility','Job Description & Application Link'],inplace=True)"
   ]
  },
  {
   "cell_type": "code",
   "execution_count": 27,
   "id": "a960a903",
   "metadata": {},
   "outputs": [
    {
     "data": {
      "text/html": [
       "<div>\n",
       "<style scoped>\n",
       "    .dataframe tbody tr th:only-of-type {\n",
       "        vertical-align: middle;\n",
       "    }\n",
       "\n",
       "    .dataframe tbody tr th {\n",
       "        vertical-align: top;\n",
       "    }\n",
       "\n",
       "    .dataframe thead th {\n",
       "        text-align: right;\n",
       "    }\n",
       "</style>\n",
       "<table border=\"1\" class=\"dataframe\">\n",
       "  <thead>\n",
       "    <tr style=\"text-align: right;\">\n",
       "      <th></th>\n",
       "      <th>Company Name</th>\n",
       "      <th>Recruitment Type</th>\n",
       "      <th>Company  Reqirements</th>\n",
       "    </tr>\n",
       "  </thead>\n",
       "  <tbody>\n",
       "    <tr>\n",
       "      <th>0</th>\n",
       "      <td>Intellicon Pvt Ltd - Gandhinagar</td>\n",
       "      <td>On Campus\\nThrough GTU ITAP Cell\\n</td>\n",
       "      <td>Diploma/BE (EC) with good communication and co...</td>\n",
       "    </tr>\n",
       "    <tr>\n",
       "      <th>1</th>\n",
       "      <td>Just Green</td>\n",
       "      <td>On Campus</td>\n",
       "      <td>Web development,Mobile application development...</td>\n",
       "    </tr>\n",
       "    <tr>\n",
       "      <th>2</th>\n",
       "      <td>WhiteLion</td>\n",
       "      <td>On Campus</td>\n",
       "      <td>Excellent knowledge of MS Office.,Highly motiv...</td>\n",
       "    </tr>\n",
       "    <tr>\n",
       "      <th>3</th>\n",
       "      <td>D-mart</td>\n",
       "      <td>On Campus</td>\n",
       "      <td>BE Electrical with no active backlogs\\r\\n60% t...</td>\n",
       "    </tr>\n",
       "    <tr>\n",
       "      <th>4</th>\n",
       "      <td>National Group</td>\n",
       "      <td>On Campus</td>\n",
       "      <td>English must be good</td>\n",
       "    </tr>\n",
       "  </tbody>\n",
       "</table>\n",
       "</div>"
      ],
      "text/plain": [
       "                       Company Name                    Recruitment Type  \\\n",
       "0  Intellicon Pvt Ltd - Gandhinagar  On Campus\\nThrough GTU ITAP Cell\\n   \n",
       "1                        Just Green                           On Campus   \n",
       "2                         WhiteLion                           On Campus   \n",
       "3                            D-mart                           On Campus   \n",
       "4                    National Group                           On Campus   \n",
       "\n",
       "                                Company  Reqirements  \n",
       "0  Diploma/BE (EC) with good communication and co...  \n",
       "1  Web development,Mobile application development...  \n",
       "2  Excellent knowledge of MS Office.,Highly motiv...  \n",
       "3  BE Electrical with no active backlogs\\r\\n60% t...  \n",
       "4                               English must be good  "
      ]
     },
     "execution_count": 27,
     "metadata": {},
     "output_type": "execute_result"
    }
   ],
   "source": [
    "df.head()"
   ]
  },
  {
   "cell_type": "code",
   "execution_count": 28,
   "id": "4e79d65d",
   "metadata": {
    "scrolled": true
   },
   "outputs": [
    {
     "name": "stdout",
     "output_type": "stream",
     "text": [
      "<class 'pandas.core.frame.DataFrame'>\n",
      "Index: 531 entries, 0 to 786\n",
      "Data columns (total 3 columns):\n",
      " #   Column                Non-Null Count  Dtype \n",
      "---  ------                --------------  ----- \n",
      " 0   Company Name          531 non-null    object\n",
      " 1   Recruitment Type      530 non-null    object\n",
      " 2   Company  Reqirements  518 non-null    object\n",
      "dtypes: object(3)\n",
      "memory usage: 16.6+ KB\n"
     ]
    }
   ],
   "source": [
    "df.info()"
   ]
  },
  {
   "cell_type": "code",
   "execution_count": 30,
   "id": "5232cf04",
   "metadata": {},
   "outputs": [
    {
     "data": {
      "text/plain": [
       "Company Name             0\n",
       "Recruitment Type         1\n",
       "Company  Reqirements    13\n",
       "dtype: int64"
      ]
     },
     "execution_count": 30,
     "metadata": {},
     "output_type": "execute_result"
    }
   ],
   "source": [
    "# removing the null values form data\n",
    "\n",
    "df.isna().sum()"
   ]
  },
  {
   "cell_type": "code",
   "execution_count": 39,
   "id": "d1f4f65a",
   "metadata": {},
   "outputs": [],
   "source": [
    "df.dropna(inplace=True)"
   ]
  },
  {
   "cell_type": "code",
   "execution_count": 40,
   "id": "0fd6d76c",
   "metadata": {
    "scrolled": true
   },
   "outputs": [
    {
     "name": "stdout",
     "output_type": "stream",
     "text": [
      "<class 'pandas.core.frame.DataFrame'>\n",
      "Index: 517 entries, 0 to 786\n",
      "Data columns (total 3 columns):\n",
      " #   Column                Non-Null Count  Dtype \n",
      "---  ------                --------------  ----- \n",
      " 0   Company Name          517 non-null    object\n",
      " 1   Recruitment Type      517 non-null    object\n",
      " 2   Company  Reqirements  517 non-null    object\n",
      "dtypes: object(3)\n",
      "memory usage: 16.2+ KB\n"
     ]
    }
   ],
   "source": [
    "df.info()"
   ]
  },
  {
   "cell_type": "code",
   "execution_count": 43,
   "id": "19b0e5fe",
   "metadata": {},
   "outputs": [
    {
     "data": {
      "text/html": [
       "<div>\n",
       "<style scoped>\n",
       "    .dataframe tbody tr th:only-of-type {\n",
       "        vertical-align: middle;\n",
       "    }\n",
       "\n",
       "    .dataframe tbody tr th {\n",
       "        vertical-align: top;\n",
       "    }\n",
       "\n",
       "    .dataframe thead th {\n",
       "        text-align: right;\n",
       "    }\n",
       "</style>\n",
       "<table border=\"1\" class=\"dataframe\">\n",
       "  <thead>\n",
       "    <tr style=\"text-align: right;\">\n",
       "      <th></th>\n",
       "      <th>Company Name</th>\n",
       "      <th>Recruitment Type</th>\n",
       "      <th>Company  Reqirements</th>\n",
       "    </tr>\n",
       "  </thead>\n",
       "  <tbody>\n",
       "  </tbody>\n",
       "</table>\n",
       "</div>"
      ],
      "text/plain": [
       "Empty DataFrame\n",
       "Columns: [Company Name, Recruitment Type, Company  Reqirements]\n",
       "Index: []"
      ]
     },
     "execution_count": 43,
     "metadata": {},
     "output_type": "execute_result"
    }
   ],
   "source": [
    "df[df.duplicated()]"
   ]
  },
  {
   "cell_type": "code",
   "execution_count": 44,
   "id": "4a257168",
   "metadata": {},
   "outputs": [
    {
     "data": {
      "text/plain": [
       "517"
      ]
     },
     "execution_count": 44,
     "metadata": {},
     "output_type": "execute_result"
    }
   ],
   "source": [
    "df['Company Name'].nunique()"
   ]
  },
  {
   "cell_type": "code",
   "execution_count": 45,
   "id": "6ba0731b",
   "metadata": {
    "scrolled": false
   },
   "outputs": [
    {
     "data": {
      "text/html": [
       "<div>\n",
       "<style scoped>\n",
       "    .dataframe tbody tr th:only-of-type {\n",
       "        vertical-align: middle;\n",
       "    }\n",
       "\n",
       "    .dataframe tbody tr th {\n",
       "        vertical-align: top;\n",
       "    }\n",
       "\n",
       "    .dataframe thead th {\n",
       "        text-align: right;\n",
       "    }\n",
       "</style>\n",
       "<table border=\"1\" class=\"dataframe\">\n",
       "  <thead>\n",
       "    <tr style=\"text-align: right;\">\n",
       "      <th></th>\n",
       "      <th>Company Name</th>\n",
       "      <th>Recruitment Type</th>\n",
       "      <th>Company  Reqirements</th>\n",
       "    </tr>\n",
       "  </thead>\n",
       "  <tbody>\n",
       "    <tr>\n",
       "      <th>0</th>\n",
       "      <td>Intellicon Pvt Ltd - Gandhinagar</td>\n",
       "      <td>On Campus\\nThrough GTU ITAP Cell\\n</td>\n",
       "      <td>Diploma/BE (EC) with good communication and co...</td>\n",
       "    </tr>\n",
       "    <tr>\n",
       "      <th>1</th>\n",
       "      <td>Just Green</td>\n",
       "      <td>On Campus</td>\n",
       "      <td>Web development,Mobile application development...</td>\n",
       "    </tr>\n",
       "    <tr>\n",
       "      <th>2</th>\n",
       "      <td>WhiteLion</td>\n",
       "      <td>On Campus</td>\n",
       "      <td>Excellent knowledge of MS Office.,Highly motiv...</td>\n",
       "    </tr>\n",
       "    <tr>\n",
       "      <th>3</th>\n",
       "      <td>D-mart</td>\n",
       "      <td>On Campus</td>\n",
       "      <td>BE Electrical with no active backlogs\\r\\n60% t...</td>\n",
       "    </tr>\n",
       "    <tr>\n",
       "      <th>4</th>\n",
       "      <td>National Group</td>\n",
       "      <td>On Campus</td>\n",
       "      <td>English must be good</td>\n",
       "    </tr>\n",
       "    <tr>\n",
       "      <th>...</th>\n",
       "      <td>...</td>\n",
       "      <td>...</td>\n",
       "      <td>...</td>\n",
       "    </tr>\n",
       "    <tr>\n",
       "      <th>780</th>\n",
       "      <td>ETP PLANT</td>\n",
       "      <td>On Campus</td>\n",
       "      <td>Be . chemical</td>\n",
       "    </tr>\n",
       "    <tr>\n",
       "      <th>781</th>\n",
       "      <td>HivePro</td>\n",
       "      <td>On Campus</td>\n",
       "      <td>Problem-Solving and Critical Thinking,JAVA,Pyt...</td>\n",
       "    </tr>\n",
       "    <tr>\n",
       "      <th>783</th>\n",
       "      <td>Xceed - A Unit of Safexpress Pvt Ltd</td>\n",
       "      <td>On Campus</td>\n",
       "      <td>MySQL, MongoDB, SQLite, UI, Problem-Solving an...</td>\n",
       "    </tr>\n",
       "    <tr>\n",
       "      <th>784</th>\n",
       "      <td>TCS - Cod vita</td>\n",
       "      <td>On Campus</td>\n",
       "      <td>C, C++, C#, Java, Python, Pearl, Ruby, PHP</td>\n",
       "    </tr>\n",
       "    <tr>\n",
       "      <th>786</th>\n",
       "      <td>IDES Global Pvt Ltd</td>\n",
       "      <td>Pooled Campus</td>\n",
       "      <td>Problem-Solving and Critical Thinking,JAVA,Py...</td>\n",
       "    </tr>\n",
       "  </tbody>\n",
       "</table>\n",
       "<p>517 rows × 3 columns</p>\n",
       "</div>"
      ],
      "text/plain": [
       "                             Company Name                    Recruitment Type  \\\n",
       "0        Intellicon Pvt Ltd - Gandhinagar  On Campus\\nThrough GTU ITAP Cell\\n   \n",
       "1                              Just Green                           On Campus   \n",
       "2                               WhiteLion                           On Campus   \n",
       "3                                  D-mart                           On Campus   \n",
       "4                          National Group                           On Campus   \n",
       "..                                    ...                                 ...   \n",
       "780                             ETP PLANT                           On Campus   \n",
       "781                               HivePro                           On Campus   \n",
       "783  Xceed - A Unit of Safexpress Pvt Ltd                           On Campus   \n",
       "784                        TCS - Cod vita                           On Campus   \n",
       "786                   IDES Global Pvt Ltd                       Pooled Campus   \n",
       "\n",
       "                                  Company  Reqirements  \n",
       "0    Diploma/BE (EC) with good communication and co...  \n",
       "1    Web development,Mobile application development...  \n",
       "2    Excellent knowledge of MS Office.,Highly motiv...  \n",
       "3    BE Electrical with no active backlogs\\r\\n60% t...  \n",
       "4                                 English must be good  \n",
       "..                                                 ...  \n",
       "780                                     Be . chemical   \n",
       "781  Problem-Solving and Critical Thinking,JAVA,Pyt...  \n",
       "783  MySQL, MongoDB, SQLite, UI, Problem-Solving an...  \n",
       "784         C, C++, C#, Java, Python, Pearl, Ruby, PHP  \n",
       "786   Problem-Solving and Critical Thinking,JAVA,Py...  \n",
       "\n",
       "[517 rows x 3 columns]"
      ]
     },
     "execution_count": 45,
     "metadata": {},
     "output_type": "execute_result"
    }
   ],
   "source": [
    "df"
   ]
  },
  {
   "cell_type": "code",
   "execution_count": 46,
   "id": "63c9e40a",
   "metadata": {},
   "outputs": [],
   "source": [
    "df.to_csv('Preprocessed_SCET_TnP_Data.csv')"
   ]
  }
 ],
 "metadata": {
  "kernelspec": {
   "display_name": "Python 3 (ipykernel)",
   "language": "python",
   "name": "python3"
  },
  "language_info": {
   "codemirror_mode": {
    "name": "ipython",
    "version": 3
   },
   "file_extension": ".py",
   "mimetype": "text/x-python",
   "name": "python",
   "nbconvert_exporter": "python",
   "pygments_lexer": "ipython3",
   "version": "3.11.5"
  }
 },
 "nbformat": 4,
 "nbformat_minor": 5
}
